{
 "cells": [
  {
   "cell_type": "markdown",
   "id": "1da77599",
   "metadata": {},
   "source": [
    "# Exercises week 38\n",
    "\n",
    "## September 15-19\n",
    "\n",
    "## Resampling and the Bias-Variance Trade-off\n"
   ]
  },
  {
   "cell_type": "markdown",
   "id": "e9f27b0e",
   "metadata": {},
   "source": [
    "### Learning goals\n",
    "\n",
    "After completing these exercises, you will know how to\n",
    "\n",
    "- Derive expectation and variances values related to linear regression\n",
    "- Compute expectation and variances values related to linear regression\n",
    "- Compute and evaluate the trade-off between bias and variance of a model\n",
    "\n",
    "### Deliverables\n",
    "\n",
    "Complete the following exercises while working in a jupyter notebook. Then, in canvas, include\n",
    "\n",
    "- The jupyter notebook with the exercises completed\n",
    "- An exported PDF of the notebook (https://code.visualstudio.com/docs/datascience/jupyter-notebooks#_export-your-jupyter-notebook)\n"
   ]
  },
  {
   "cell_type": "markdown",
   "id": "984af8e3",
   "metadata": {},
   "source": [
    "## Use the books!\n",
    "\n",
    "This week deals with various mean values and variances in linear regression methods (here it may be useful to look up chapter 3, equation (3.8) of [Trevor Hastie, Robert Tibshirani, Jerome H. Friedman, The Elements of Statistical Learning, Springer](https://www.springer.com/gp/book/9780387848570)).\n",
    "\n",
    "For more discussions on Ridge regression and calculation of expectation values, [Wessel van Wieringen's](https://arxiv.org/abs/1509.09169) article is highly recommended.\n",
    "\n",
    "The exercises this week are also a part of project 1 and can be reused in the theory part of the project.\n",
    "\n",
    "### Definitions\n",
    "\n",
    "We assume that there exists a continuous function $f(\\boldsymbol{x})$ and a normal distributed error $\\boldsymbol{\\varepsilon}\\sim N(0, \\sigma^2)$ which describes our data\n"
   ]
  },
  {
   "cell_type": "markdown",
   "id": "c16f7d0e",
   "metadata": {},
   "source": [
    "$$\n",
    "\\boldsymbol{y} = f(\\boldsymbol{x})+\\boldsymbol{\\varepsilon}\n",
    "$$\n"
   ]
  },
  {
   "cell_type": "markdown",
   "id": "9fcf981a",
   "metadata": {
    "vscode": {
     "languageId": "plaintext"
    }
   },
   "source": [
    "We further assume that this continous function can be modeled with a linear model $\\mathbf{\\tilde{y}}$ of some features $\\mathbf{X}$.\n"
   ]
  },
  {
   "cell_type": "markdown",
   "id": "d4189366",
   "metadata": {},
   "source": [
    "$$\n",
    "\\boldsymbol{y} = \\boldsymbol{\\tilde{y}} + \\boldsymbol{\\varepsilon} = \\boldsymbol{X}\\boldsymbol{\\beta} +\\boldsymbol{\\varepsilon}\n",
    "$$\n"
   ]
  },
  {
   "cell_type": "markdown",
   "id": "f4fca21b",
   "metadata": {},
   "source": [
    "We therefore get that our data $\\boldsymbol{y}$ has an expectation value $\\boldsymbol{X}\\boldsymbol{\\beta}$ and variance $\\sigma^2$, that is $\\boldsymbol{y}$ follows a normal distribution with mean value $\\boldsymbol{X}\\boldsymbol{\\beta}$ and variance $\\sigma^2$.\n"
   ]
  },
  {
   "cell_type": "markdown",
   "id": "5de0c7e6",
   "metadata": {},
   "source": [
    "## Exercise 1: Expectation values for ordinary least squares expressions\n"
   ]
  },
  {
   "cell_type": "markdown",
   "id": "d878c699",
   "metadata": {},
   "source": [
    "**a)** With the expressions for the optimal parameters $\\boldsymbol{\\hat{\\beta}_{OLS}}$ show that\n"
   ]
  },
  {
   "cell_type": "markdown",
   "id": "08b7007d",
   "metadata": {},
   "source": [
    "$$\n",
    "\\mathbb{E}(\\boldsymbol{\\hat{\\beta}_{OLS}}) = \\boldsymbol{\\beta}.\n",
    "$$\n"
   ]
  },
  {
   "cell_type": "markdown",
   "id": "de3b23e4",
   "metadata": {},
   "source": [
    "We have that \n",
    "$$\n",
    "    \\mathbb{E}(\\hat{\\beta_{OLS}})=\\mathbb{E}((X^TX)^{-1}X^Ty)\n",
    "$$\n",
    "$$\n",
    "    =(X^TX)^{-1}X^T\\mathbb{E}(y)\n",
    "$$\n",
    "$$\n",
    "    =(X^TX)^{-1}X^TX\\beta\n",
    "$$\n",
    "$$\n",
    "=\\beta.\n",
    "$$"
   ]
  },
  {
   "cell_type": "markdown",
   "id": "46e93394",
   "metadata": {},
   "source": [
    "**b)** Show that the variance of $\\boldsymbol{\\hat{\\beta}_{OLS}}$ is\n"
   ]
  },
  {
   "cell_type": "markdown",
   "id": "be1b65be",
   "metadata": {},
   "source": [
    "$$\n",
    "\\mathbf{Var}(\\boldsymbol{\\hat{\\beta}_{OLS}}) = \\sigma^2 \\, (\\mathbf{X}^{T} \\mathbf{X})^{-1}.\n",
    "$$\n"
   ]
  },
  {
   "cell_type": "markdown",
   "id": "c1923700",
   "metadata": {},
   "source": [
    "We have that \n",
    "$$\n",
    "\\textbf{Var}(\\hat{\\beta_{OLS}})=\\textbf{Var}((X^TX)^{-1}X^Ty)\\\\\n",
    "=||(X^TX)^{-1}X^T||^2\\textbf{Var}(y)\\\\\n",
    "=((X^TX)^{-1}X^T)((X^TX)^{-1}X^T)^T\\sigma^2\\\\\n",
    "=((X^TX)^{-1}X^T)(X((X^TX)^{-1})^T)\\sigma^2\\\\\n",
    "=(X^TX)^{-1}(X^TX)((X^TX)^{T})^{-1}\\sigma^2\\\\\n",
    "=(X^TX)^{-1}\\sigma^2.\n",
    "$$"
   ]
  },
  {
   "cell_type": "markdown",
   "id": "d2143684",
   "metadata": {},
   "source": [
    "We can use the last expression when we define a [confidence interval](https://en.wikipedia.org/wiki/Confidence_interval) for the parameters $\\boldsymbol{\\hat{\\beta}_{OLS}}$.\n",
    "A given parameter ${\\boldsymbol{\\hat{\\beta}_{OLS}}}_j$ is given by the diagonal matrix element of the above matrix.\n"
   ]
  },
  {
   "cell_type": "markdown",
   "id": "f5c2dc22",
   "metadata": {},
   "source": [
    "## Exercise 2: Expectation values for Ridge regression\n"
   ]
  },
  {
   "cell_type": "markdown",
   "id": "3893e3e7",
   "metadata": {},
   "source": [
    "**a)** With the expressions for the optimal parameters $\\boldsymbol{\\hat{\\beta}_{Ridge}}$ show that\n"
   ]
  },
  {
   "cell_type": "markdown",
   "id": "79dc571f",
   "metadata": {},
   "source": [
    "$$\n",
    "\\mathbb{E} \\big[ \\hat{\\boldsymbol{\\beta}}^{\\mathrm{Ridge}} \\big]=(\\mathbf{X}^{T} \\mathbf{X} + \\lambda \\mathbf{I}_{pp})^{-1} (\\mathbf{X}^{\\top} \\mathbf{X})\\boldsymbol{\\beta}\n",
    "$$\n"
   ]
  },
  {
   "cell_type": "markdown",
   "id": "028209a1",
   "metadata": {},
   "source": [
    "We see that $\\mathbb{E} \\big[ \\hat{\\boldsymbol{\\beta}}^{\\mathrm{Ridge}} \\big] \\not= \\mathbb{E} \\big[\\hat{\\boldsymbol{\\beta}}^{\\mathrm{OLS}}\\big ]$ for any $\\lambda > 0$.\n"
   ]
  },
  {
   "cell_type": "markdown",
   "id": "d3432611",
   "metadata": {},
   "source": [
    "Similarily as for OLS we have that \n",
    "$$\n",
    "    \\mathbb{E}(\\hat{\\beta}_{Ridge})=\\mathbb{E}((X^TX+\\lambda I_{pp})^{-1}X^Ty)\\\\\n",
    "    =(X^TX+\\lambda I_{pp})^{-1}X^T\\mathbb{E}(y)\\\\\n",
    "    =(X^TX+\\lambda I_{pp})^{-1}(X^TX)\\beta.\n",
    "$$"
   ]
  },
  {
   "cell_type": "markdown",
   "id": "b4e721fc",
   "metadata": {},
   "source": [
    "**b)** Show that the variance is\n"
   ]
  },
  {
   "cell_type": "markdown",
   "id": "090eb1e1",
   "metadata": {},
   "source": [
    "$$\n",
    "\\mathbf{Var}[\\hat{\\boldsymbol{\\beta}}^{\\mathrm{Ridge}}]=\\sigma^2[  \\mathbf{X}^{T} \\mathbf{X} + \\lambda \\mathbf{I} ]^{-1}  \\mathbf{X}^{T}\\mathbf{X} \\{ [  \\mathbf{X}^{\\top} \\mathbf{X} + \\lambda \\mathbf{I} ]^{-1}\\}^{T}\n",
    "$$\n"
   ]
  },
  {
   "cell_type": "markdown",
   "id": "2a05b0df",
   "metadata": {},
   "source": [
    "Similarily as for OLS we have that\n",
    "$$\n",
    "\\textbf{Var}(\\hat{\\beta_{OLS}})=\\textbf{Var}((X^TX+\\lambda I_{pp})^{-1}X^Ty)\\\\\n",
    "=||(X^TX+\\lambda I_{pp})^{-1}X^T||^2\\textbf{Var}(y)\\\\\n",
    "=((X^TX+\\lambda I_{pp})^{-1}X^T)((X^TX+\\lambda I_{pp})^{-1}X^T)^T\\sigma\\\\\n",
    "=\\sigma (X^TX+\\lambda I_{pp})^{-1}X^TX((X^TX+\\lambda I_{pp})^{-1})^T.\n",
    "$$"
   ]
  },
  {
   "cell_type": "markdown",
   "id": "6b8e8697",
   "metadata": {},
   "source": [
    "We see that if the parameter $\\lambda$ goes to infinity then the variance of the Ridge parameters $\\boldsymbol{\\beta}$ goes to zero.\n"
   ]
  },
  {
   "cell_type": "markdown",
   "id": "74bc300b",
   "metadata": {},
   "source": [
    "## Exercise 3: Deriving the expression for the Bias-Variance Trade-off\n"
   ]
  },
  {
   "cell_type": "markdown",
   "id": "eeb86010",
   "metadata": {},
   "source": [
    "The aim of this exercise is to derive the equations for the bias-variance tradeoff to be used in project 1.\n",
    "\n",
    "The parameters $\\boldsymbol{\\hat{\\beta}_{OLS}}$ are found by optimizing the mean squared error via the so-called cost function\n"
   ]
  },
  {
   "cell_type": "markdown",
   "id": "522a0d1d",
   "metadata": {},
   "source": [
    "$$\n",
    "C(\\boldsymbol{X},\\boldsymbol{\\beta}) =\\frac{1}{n}\\sum_{i=0}^{n-1}(y_i-\\tilde{y}_i)^2=\\mathbb{E}\\left[(\\boldsymbol{y}-\\boldsymbol{\\tilde{y}})^2\\right]\n",
    "$$\n"
   ]
  },
  {
   "cell_type": "markdown",
   "id": "831db06c",
   "metadata": {},
   "source": [
    "**a)** Show that you can rewrite this into an expression which contains\n",
    "\n",
    "- the variance of the model (the variance term)\n",
    "- the expected deviation of the mean of the model from the true data (the bias term)\n",
    "- the variance of the noise\n",
    "\n",
    "In other words, show that:\n"
   ]
  },
  {
   "cell_type": "markdown",
   "id": "8cc52b3c",
   "metadata": {},
   "source": [
    "$$\n",
    "\\mathbb{E}\\left[(\\boldsymbol{y}-\\boldsymbol{\\tilde{y}})^2\\right]=\\mathrm{Bias}[\\tilde{y}]+\\mathrm{var}[\\tilde{y}]+\\sigma^2,\n",
    "$$\n"
   ]
  },
  {
   "cell_type": "markdown",
   "id": "8cb50416",
   "metadata": {},
   "source": [
    "with\n"
   ]
  },
  {
   "cell_type": "markdown",
   "id": "e49bdbb4",
   "metadata": {},
   "source": [
    "$$\n",
    "\\mathrm{Bias}[\\tilde{y}]=\\mathbb{E}\\left[\\left(\\boldsymbol{y}-\\mathbb{E}\\left[\\boldsymbol{\\tilde{y}}\\right]\\right)^2\\right],\n",
    "$$\n"
   ]
  },
  {
   "cell_type": "markdown",
   "id": "eca5554a",
   "metadata": {},
   "source": [
    "and\n"
   ]
  },
  {
   "cell_type": "markdown",
   "id": "b1054343",
   "metadata": {},
   "source": [
    "$$\n",
    "\\mathrm{var}[\\tilde{y}]=\\mathbb{E}\\left[\\left(\\tilde{\\boldsymbol{y}}-\\mathbb{E}\\left[\\boldsymbol{\\tilde{y}}\\right]\\right)^2\\right]=\\frac{1}{n}\\sum_i(\\tilde{y}_i-\\mathbb{E}\\left[\\boldsymbol{\\tilde{y}}\\right])^2.\n",
    "$$\n",
    "\n",
    "In order to arrive at the equation for the bias, we have to approximate the unknown function $f$ with the output/target values $y$.\n"
   ]
  },
  {
   "cell_type": "markdown",
   "id": "9c8ff448",
   "metadata": {},
   "source": [
    "We have that \n",
    "$$\n",
    "\\mathbb{E}\\left[(\\boldsymbol{y}-\\boldsymbol{\\tilde{y}})^2\\right]=\\mathbb{E}\\left[\\boldsymbol{y}^2-2\\boldsymbol{\\tilde{y}}\\boldsymbol{y}+\\boldsymbol{\\tilde{y}}^2\\right]\n",
    "$$\n",
    "$$\n",
    "=\\mathbb{E}\\left[(X\\beta+\\epsilon)^2-2\\boldsymbol{\\tilde{y}}(X\\beta+\\epsilon)+\\boldsymbol{\\tilde{y}}^2\\right]\n",
    "$$\n",
    "$$\n",
    "=\\mathbb{E}\\left[(X\\beta)^2+2\\epsilon(X\\beta)+\\epsilon^2-2\\boldsymbol{\\tilde{y}}X\\beta+2\\boldsymbol{\\tilde{y}}\\epsilon+\\boldsymbol{\\tilde{y}}^2\\right]\n",
    "$$\n",
    "$$\n",
    "=\\mathbb{E}\\left[(X\\beta-\\boldsymbol{\\tilde{y}})^2\\right]+2\\mathbb{E}\\left[\\epsilon(X\\beta-\\boldsymbol{\\tilde{y}})\\right]+\\mathbb{E}[\\epsilon^2]\n",
    "$$\n",
    "$$\n",
    "=\\mathbb{E}\\left[((X\\beta-\\mathbb{E}[\\boldsymbol{\\tilde{y}}])+(\\mathbb{E}[\\boldsymbol{\\tilde{y}}]-\\boldsymbol{\\tilde{y}}))^2\\right]+\\sigma^2\n",
    "$$\n",
    "$$\n",
    "=\\mathbb{E}\\left[(X\\beta-\\mathbb{E}[\\boldsymbol{\\tilde{y}}])^2+2(X\\beta-\\mathbb{E}[\\boldsymbol{\\tilde{y}}])(\\mathbb{E}[\\boldsymbol{\\tilde{y}}]-\\boldsymbol{\\tilde{y}})+ (\\mathbb{E}[\\boldsymbol{\\tilde{y}}]-\\boldsymbol{\\tilde{y}})^2\\right]+\\sigma^2\n",
    "$$\n",
    "$$\n",
    "=\\mathbb{E}\\left[(X\\beta-\\mathbb{E}[\\boldsymbol{\\tilde{y}}])^2+2(X\\beta-\\mathbb{E}[\\boldsymbol{\\tilde{y}}])(\\mathbb{E}[\\boldsymbol{\\tilde{y}}]-\\boldsymbol{\\tilde{y}})\\right]+ \n",
    "\\mathbb{E}\\left[(\\mathbb{E}[\\boldsymbol{\\tilde{y}}]-\\boldsymbol{\\tilde{y}})^2\\right]+\\sigma^2\n",
    "$$\n",
    "$$\n",
    "=\\mathbb{E}\\left[(X\\beta-\\mathbb{E}[\\boldsymbol{\\tilde{y}}])^2\\right]+ \n",
    "\\mathbb{E}\\left[(\\mathbb{E}[\\boldsymbol{\\tilde{y}}]-\\boldsymbol{\\tilde{y}})^2\\right]+\\sigma^2\n",
    "$$"
   ]
  },
  {
   "cell_type": "markdown",
   "id": "70fbfcd7",
   "metadata": {},
   "source": [
    "**b)** Explain what the terms mean and discuss their interpretations.\n"
   ]
  },
  {
   "cell_type": "markdown",
   "id": "e76bd2d9",
   "metadata": {},
   "source": [
    "The bias term is the expected shift of our predictions from the true value. This can be interpreted as by how much our vaues miss the target (or alternativly, are shifted from the target $y$).$\\\\$\n",
    "The variance term tells us the expected distance between points and the expectation of our predictions. It can be interpreted as the spread of the predictions.$\\\\$\n",
    "The last term, the $\\sigma^2$ is just the variance of the noise.$\\\\$\n",
    "So all in all, this tells us that the mean squared error is just the shift of the predictions from the real target, plus the spread, plus the spread of the noise. Which really makes sense, since there are two ways the predictions could miss the actual value, by being shifted or by being spread out. But if all points are bunched up close to the real value, the only thing contributing to the error is the spread of the noise. "
   ]
  },
  {
   "cell_type": "markdown",
   "id": "b8f8b9d1",
   "metadata": {},
   "source": [
    "## Exercise 4: Computing the Bias and Variance\n"
   ]
  },
  {
   "cell_type": "markdown",
   "id": "9e012430",
   "metadata": {},
   "source": [
    "Before you compute the bias and variance of a real model for different complexities, let's for now assume that you have sampled predictions and targets for a single model complexity using bootstrap resampling.\n",
    "\n",
    "**a)** Using the expression above, compute the mean squared error, bias and variance of the given data. Check that the sum of the bias and variance correctly gives (approximately) the mean squared error.\n"
   ]
  },
  {
   "cell_type": "code",
   "execution_count": 56,
   "id": "b5bf581c",
   "metadata": {},
   "outputs": [
    {
     "name": "stdout",
     "output_type": "stream",
     "text": [
      "6.316157026687853   0.01000311050865257\n"
     ]
    }
   ],
   "source": [
    "import numpy as np\n",
    "\n",
    "n = 1000\n",
    "bootstraps = 1000\n",
    "\n",
    "#predictions = np.random.rand(bootstraps, n) * 10 + 10\n",
    "predictions = np.random.normal(loc=3, scale=0.1, size=(bootstraps, n))\n",
    "\n",
    "# The definition of targets has been updated, and was wrong earlier in the week.\n",
    "targets = np.random.rand(1, n)\n",
    "\n",
    "mse = np.average(np.pow(targets - predictions, 2))\n",
    "bias = np.average(np.pow(targets - np.average(predictions), 2))\n",
    "variance = np.average(np.pow(predictions - np.average(predictions), 2))\n",
    "print(bias, \" \", variance)"
   ]
  },
  {
   "cell_type": "markdown",
   "id": "7b1dc621",
   "metadata": {},
   "source": [
    "**b)** Change the prediction values in some way to increase the bias while decreasing the variance.\n",
    "\n",
    "**c)** Change the prediction values in some way to increase the variance while decreasing the bias.\n"
   ]
  },
  {
   "cell_type": "markdown",
   "id": "3623a46d",
   "metadata": {},
   "source": [
    "Answer b)$\\\\$\n",
    "By increasing the shift of predicitons, one will increase the bias while keeping the variance unchanged $\\\\$\n",
    "Answer c)$\\\\$\n",
    "By increasing the scale of predictions, one will increase the variance while the bias is the same"
   ]
  },
  {
   "cell_type": "markdown",
   "id": "8da63362",
   "metadata": {},
   "source": [
    "**d)** Perform a bias-variance analysis of a polynomial OLS model fit to a one-dimensional function by computing and plotting the bias and variances values as a function of the polynomial degree of your model.\n"
   ]
  },
  {
   "cell_type": "code",
   "execution_count": 131,
   "id": "dd5855e4",
   "metadata": {},
   "outputs": [],
   "source": [
    "import numpy as np\n",
    "import matplotlib.pyplot as plt\n",
    "from sklearn.preprocessing import (\n",
    "    PolynomialFeatures,\n",
    ")  # use the fit_transform method of the created object!\n",
    "from sklearn.linear_model import LinearRegression\n",
    "from sklearn.metrics import mean_squared_error\n",
    "from sklearn.model_selection import train_test_split\n",
    "from sklearn.utils import resample\n",
    "from sklearn.preprocessing import normalize\n",
    "from tqdm import tqdm"
   ]
  },
  {
   "cell_type": "code",
   "execution_count": 133,
   "id": "7e35fa37",
   "metadata": {},
   "outputs": [
    {
     "data": {
      "image/png": "[encoded data removed]",
      "text/plain": [
       "<Figure size 640x480 with 1 Axes>"
      ]
     },
     "metadata": {},
     "output_type": "display_data"
    }
   ],
   "source": [
    "n = 100\n",
    "bootstraps = 1000\n",
    "\n",
    "x = np.linspace(-3, 3, n)\n",
    "y = np.exp(-(x**2)) + 1.5 * np.exp(-((x - 2) ** 2)) + np.random.normal(0, 0.1)\n",
    "\n",
    "biases = []\n",
    "variances = []\n",
    "mses = []\n",
    "\n",
    "def OLS_parameters(X, y):\n",
    "    return np.linalg.inv(X.T @ X) @ X.T @ y\n",
    "\n",
    "splitratio = 0.5\n",
    "\n",
    "targets = np.ndarray((bootstraps, int(n*splitratio)))\n",
    "x_train, x_test, y_train, y_test = train_test_split(x, y, test_size = splitratio)\n",
    "for b in range(bootstraps): targets[b, :] = y_test\n",
    "for p in range(1, 10):\n",
    "    predictions = np.ndarray((bootstraps, int(n*(1-splitratio))))\n",
    "\n",
    "    X_train = normalize(x_train[:, None] ** np.arange(0, p+1), axis=0, norm='max')\n",
    "    X_test = normalize(x_test[:, None] ** np.arange(0, p+1), axis=0, norm='max')\n",
    "     \n",
    "    for b in range(bootstraps):\n",
    "        X_train_re, y_train_re = resample(X_train, y_train)\n",
    "\n",
    "        # fit your model on the sampled data\n",
    "\n",
    "        beta = OLS_parameters(X_train_re, y_train_re)\n",
    "\n",
    "        # make predictions on the test data\n",
    "        predictions[b, :] = X_test @ beta\n",
    "\n",
    "    mse = np.average(np.pow(targets - predictions, 2))\n",
    "    bias = np.average(np.pow(targets - np.average(predictions, axis=0), 2))\n",
    "    variance = np.average(np.pow(predictions - np.average(predictions, axis=0), 2))\n",
    "    biases.append(bias)\n",
    "    variances.append(variance)\n",
    "    mses.append(mse)\n",
    "\n",
    "plt.plot(range(1, 10), biases, label=\"Bias\")\n",
    "plt.plot(range(1, 10), variances, label=\"Viarance\")\n",
    "plt.plot(range(1, 10), mses, label=\"MSE\")\n",
    "plt.legend()\n",
    "plt.show()"
   ]
  },
  {
   "cell_type": "markdown",
   "id": "253b8461",
   "metadata": {},
   "source": [
    "**e)** Discuss the bias-variance trade-off as function of your model complexity (the degree of the polynomial).\n",
    "\n",
    "**f)** Compute and discuss the bias and variance as function of the number of data points (choose a suitable polynomial degree to show something interesting).\n"
   ]
  },
  {
   "cell_type": "markdown",
   "id": "b8fd34e4",
   "metadata": {},
   "source": [
    "Answer e)$\\\\$\n",
    "As the degree of the polynomial increases the bias goes down, since our predictions get closer and closer to the real target, in theory with an \"infinit-dimensional\" polynomial, we could perfectly fit any data, but then the variance would skyrocket, since all predctions would be far from the expected value or average. "
   ]
  },
  {
   "cell_type": "code",
   "execution_count": 134,
   "id": "6ad4e5d8",
   "metadata": {},
   "outputs": [
    {
     "name": "stderr",
     "output_type": "stream",
     "text": [
      "100%|██████████| 6/6 [00:02<00:00,  2.64it/s]\n"
     ]
    },
    {
     "data": {
      "image/png": "[encoded data removed]",
      "text/plain": [
       "<Figure size 640x480 with 1 Axes>"
      ]
     },
     "metadata": {},
     "output_type": "display_data"
    }
   ],
   "source": [
    "nMax = 100\n",
    "bootstraps = 1000\n",
    "\n",
    "biases = []\n",
    "variances = []\n",
    "mses = []\n",
    "\n",
    "def OLS_parameters(X, y):\n",
    "    return np.linalg.inv(X.T @ X) @ X.T @ y\n",
    "\n",
    "splitratio = 0.5\n",
    "\n",
    "p = 3\n",
    "n_range = range(40, nMax, 10)\n",
    "for n in tqdm(n_range):\n",
    "    targets = np.ndarray((bootstraps, int(n*splitratio)))\n",
    "    x = np.linspace(-3, 3, n)\n",
    "    y = np.exp(-(x**2)) + 1.5 * np.exp(-((x - 2) ** 2)) + np.random.normal(0, 0.1)\n",
    "    x_train, x_test, y_train, y_test = train_test_split(x, y, test_size = splitratio)\n",
    "    for b in range(bootstraps): targets[b, :] = y_test\n",
    "\n",
    "    predictions = np.ndarray((bootstraps, int(n*(1-splitratio))))\n",
    "    \n",
    "\n",
    "    X_train = normalize(x_train[:, None] ** np.arange(0, p+1), axis=0, norm='max')\n",
    "    X_test = normalize(x_test[:, None] ** np.arange(0, p+1), axis=0, norm='max')\n",
    "     \n",
    "    for b in range(bootstraps):\n",
    "        X_train_re, y_train_re = resample(X_train, y_train)\n",
    "\n",
    "        # fit your model on the sampled data\n",
    "\n",
    "        beta = OLS_parameters(X_train_re, y_train_re)\n",
    "\n",
    "        # make predictions on the test data\n",
    "        predictions[b, :] = X_test @ beta\n",
    "\n",
    "    mse = np.average(np.pow(targets - predictions, 2))\n",
    "    bias = np.average(np.pow(targets - np.average(predictions, axis=0), 2))\n",
    "    variance = np.average(np.pow(predictions - np.average(predictions, axis=0), 2))\n",
    "    biases.append(bias)\n",
    "    variances.append(variance)\n",
    "    mses.append(mse)\n",
    "\n",
    "plt.plot(n_range, biases, label=\"Bias\")\n",
    "plt.plot(n_range, variances, label=\"Viarance\")\n",
    "plt.plot(n_range, mses, label=\"MSE\")\n",
    "plt.legend()\n",
    "plt.show()"
   ]
  },
  {
   "cell_type": "markdown",
   "id": "46250fbc",
   "metadata": {},
   "source": [
    "## Exercise 5: Interpretation of scaling and metrics\n"
   ]
  },
  {
   "cell_type": "markdown",
   "id": "5af53055",
   "metadata": {},
   "source": [
    "In this course, we often ask you to scale data and compute various metrics. Although these practices are \"standard\" in the field, we will require you to demonstrate an understanding of _why_ you need to scale data and use these metrics. Both so that you can make better arguements about your results, and so that you will hopefully make fewer mistakes.\n",
    "\n",
    "First, a few reminders: In this course you should always scale the columns of the feature matrix, and sometimes scale the target data, when it is worth the effort. By scaling, we mean subtracting the mean and dividing by the standard deviation, though there are many other ways to scale data. When scaling either the feature matrix or the target data, the intercept becomes a bit harder to implement and understand, so take care.\n",
    "\n",
    "Briefly answer the following:\n",
    "\n",
    "**a)** Why do we scale data?\n",
    "\n",
    "I would persume there are two main resons to scale data. Firstly every feature gets the same scale, so they are \"even\" menaing no single feature gets to dominate everything. Secondly working with small numbers is a lot nicer that large integers, since these can sometimes blow up to \"infinity\" and we get an overflow (or NaN) error. \n",
    "\n",
    "**b)** Why does the OLS method give practically equivelent models on scaled and unscaled data?\n",
    "\n",
    "In OLS the way the parameteres of the model are calculated and the feature matrix will cancel out any scaling, hence the models are equal. Said in a different way, if you scale one parameter, then you are just \"streching\" the line along one axis, but \"streching\" a line still makes it the same line, hence no practial change in the model (you have just changed the units of meassure). \n",
    "\n",
    "**c)** Why does the Ridge method **not** give practically equivelent models on scaled and unscaled data? Why do we only consider the model on scaled data correct?\n",
    "\n",
    "In Ridge large features are penalized more, so scaling a model will adjust the penalty and hence change that features contribution to the model. This will actually change the model, not just \"strech\" it. $\\\\$\n",
    "In Ridge we are adding a small value to the terms, if the terms aren't scaled, this little addition won't change the model substantially. Hence we need to scale the data in order to be able to choose the correct values for $\\lambda$. Additionally each features should be penaliced \"equally\". For this to occure they all need to be withing the same range of values, if not, the features that happen to be on a larger scale will be penalized more and hence contribute less to the acctual model. \n",
    "\n",
    "**d)** Why do we say that the Ridge method gives a biased model?\n",
    "\n",
    "This bias commes from the term we add to our feature matrix. It shifts the entire model by a small amount and hence makes it biased. \n",
    "\n",
    "**e)** Is the MSE of the OLS method affected by scaling of the feature matrix? Is it affected by scaling of the target data?\n",
    "\n",
    "Scaling the feature matrix won't affect the MSE since scaled, and not scaled data gives prectically the same model as discussed in **c**. Scaling the target data will scale the MSE since now predictions and input are changed relative to each other. So the target has moved to a different meassure and hence the error will change accordingly. \n",
    "\n",
    "**f)** Read about the R2 score, a metric we will ask you to use a lot later in the course. Is the R2 score of the OLS method affected by scaling of the feature matrix? Is it affected by scaling of the target data?\n",
    "\n",
    "R2 is invariant to scaling of both feature matrix and target data scaling. This is due to R2 representing relative error, i.e. scale invariant error. \n",
    "\n",
    "**g)** Give interpretations of the following R2 scores: 0, 0.5, 1.\n",
    "\n",
    "$R^2=0$ means zero corrolation between the variables. $R^2=0.5$ means some corrolation between the variables. $R^2=1$ means perfect corrolation between the variables.  \n",
    "\n",
    "**h)** What is an advantage of the R2 score over the MSE?\n",
    "\n",
    "R2 is scaleinvariant and hence can be usefull when dealing with data on different scales or where you want to know the \"general\" error and not the error for specific units of meassure. \n"
   ]
  }
 ],
 "metadata": {
  "kernelspec": {
   "display_name": ".venv",
   "language": "python",
   "name": "python3"
  },
  "language_info": {
   "codemirror_mode": {
    "name": "ipython",
    "version": 3
   },
   "file_extension": ".py",
   "mimetype": "text/x-python",
   "name": "python",
   "nbconvert_exporter": "python",
   "pygments_lexer": "ipython3",
   "version": "3.12.5"
  }
 },
 "nbformat": 4,
 "nbformat_minor": 5
}
