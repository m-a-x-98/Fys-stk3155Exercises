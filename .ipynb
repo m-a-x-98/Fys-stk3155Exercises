{
 "cells": [
  {
   "cell_type": "markdown",
   "id": "232d1306",
   "metadata": {},
   "source": [
    "# Exercises week 34\n",
    "\n",
    "## Coding Setup and Linear Regression"
   ]
  },
  {
   "cell_type": "markdown",
   "id": "9b66a351",
   "metadata": {},
   "source": [
    "Welcome to FYS-STK3155/4155!\n",
    "\n",
    "In this first week will focus on getting you set up with the programs you are going to be using throughout this course. We expect that many of you will encounter some trouble with setting these programs up, as they can be extremely finnicky and prone to not working the same on all machines, so we strongly encourage you to not get discouraged, and to show up to the group-sessions where we can help you along. The group sessions are also the best place to find group partners for the projects and to be challenged on your understanding of the material, which are both essential to doing well in this course. We strongly encourage you to form groups of 2-3 participants. \n",
    "\n",
    "If you are unable to complete this week's exercises, don't worry, this will likely be the most frustrating week for many of you. You have time to get back on track next week, especially if you come to the group-sessions! Note also that this week's set of exercises does not count for the additional score. The deadline for the weekly exercises is set to Fridays, at midnight."
   ]
  },
  {
   "cell_type": "markdown",
   "id": "36d8750b",
   "metadata": {},
   "source": [
    "### Learning goals\n",
    "\n",
    "After completing these exercises, you will know how to\n",
    "\n",
    "- Create and use a Github repository\n",
    "- Set up and use a virtual environment in Python\n",
    "- Fit an OLS model to data using scikit-learn\n",
    "- Fit a model on training data and evaluate it on test data\n",
    "\n",
    "### Deliverables\n",
    "\n",
    "Complete the following exercises while working in a jupyter notebook. Exercises 1,2 and 3 require no writing in the notebook. Then, in canvas, include\n",
    "- The jupyter notebook with the exercises completed\n",
    "- An exported PDF of the notebook (https://code.visualstudio.com/docs/datascience/jupyter-notebooks#_export-your-jupyter-notebook)\n",
    "- Optional: A link to your github repository, which must be set to public, include the notebook file, a README file, requirements file and gitignore file.\n",
    "\n",
    "We require you to deliver a jupyter notebook so that we can evaluate the results of your code without needing to download and run the code of every student, as well as to teach you to use this useful tool."
   ]
  },
  {
   "cell_type": "markdown",
   "id": "2a9c7ef8",
   "metadata": {},
   "source": [
    "## Exercise 1 - Github Setup\n"
   ]
  },
  {
   "cell_type": "markdown",
   "id": "1498aed1",
   "metadata": {},
   "source": [
    "In this course, we require you to pay extra mind to the reproducibility of your results and the shareability of your code. The first step toward these goals is using a version control system like git and online repository like Github.\n",
    "\n",
    "**a)** Download git if you don't already have it on your machine, check with the terminal command ´git --version´ (https://git-scm.com/downloads).\n",
    "\n",
    "**b)** Create a Github account(https://github.com/), or log in to github with your UiO account (https://github.uio.no/login).\n",
    "\n",
    "**c)** Learn the basics of opening the terminal and navigating folders on your operating system. Things to learn: Opening a terminal, opening a terminal in a specific folder, listing the contents of the current folder, navigating into a folder, navigating out of a folder.\n",
    "\n",
    "**d)** Download the Github CLI tool and run ´gh auth login´ in your terminal to authenticate your local machine for some of the later steps. (https://github.com/cli/cli#installation). You might need to change file permissions to make it work, ask us or ChatGPT for help with these issues.\n",
    "\n",
    "**e)**  As an alternative to the above terminal based instructions, you could install GitHub Desktop (see https://desktop.github.com/download/) or if you prefer GitLab, GitLab desktop (see https://about.gitlab.com/install/). This sets up all communications between your PC/Laptop and the repository. This allows you to combine exercises 1 and 2 in an easy way if you don't want to use terminarl. Keep in mind that these GUIs (graphical user interfaces) are not text editors."
   ]
  },
  {
   "cell_type": "markdown",
   "id": "c56fbefa",
   "metadata": {},
   "source": [
    "## Exercise 2 - Setting up a Github repository\n"
   ]
  },
  {
   "cell_type": "markdown",
   "id": "fb9b8acd",
   "metadata": {
    "vscode": {
     "languageId": "plaintext"
    }
   },
   "source": [
    "**a)** Create an empty repository for your coursework in this course in your browser at github.com (or uio github).\n",
    "\n",
    "**b)** Open a terminal in the location you want to create your local folder for this repository, like your desktop.\n",
    "\n",
    "**c)** Clone the repository to your laptop using the terminal command ´gh repo clone username/repository-name´. This creates a folder with the same name as the repository. Moving it or renaming it might require some extra steps.\n",
    "\n",
    "**d)** Download this jupyter notebook. Add the notebook to the local folder.\n",
    "\n",
    "**e)** Run the ´git add .´ command command in a terminal opened in the local folder to stage the current changes in the folder to be commited to the version control history. Run ´git status´ to see the staged files.\n",
    "\n",
    "**f)** Run the ´git commit -m \"Adding first weekly assignment file\"´ command to commit the staged changes to the version control history. Run ´git status´ to see that no files are staged.\n",
    "\n",
    "**g)** Run the ´git push\" command to upload the commited changes to the remote repository on Github.\n",
    "\n",
    "**h)** Add a file called README.txt to the repository at Github.com. Don't do this in your local folder. Add a suitable title for your repository and some inforomation to the file.\n",
    "\n",
    "**i)** Run the ´git fetch origin´ command to fetch the latest remote changes to your repository.\n",
    "\n",
    "**j)** Run the ´git pull´ command to download and update files to match the remote changes.\n"
   ]
  },
  {
   "cell_type": "markdown",
   "id": "f84d0db6",
   "metadata": {},
   "source": [
    "## Exercise 3 - Setting up a Python virtual environment\n"
   ]
  },
  {
   "cell_type": "markdown",
   "id": "b5a4818a",
   "metadata": {},
   "source": [
    "Following the themes from the previous exercises, another way of improving the reproducibility of your results and shareability of your code is having a good handle on which python packages you are using.\n",
    "\n",
    "There are many ways to manage your packages in Python, and you are free to use any approach you want, but in this course we encourage you to use something called a virtual environment. A virtual environemnt is a folder in your project which contains a Python runtime executable as well as all the packages you are using in the current project. In this way, each of your projects has its required set of packages installed in the same folder, so that if anything goes wrong while managing your packages it only affects the one project, and if multiple projects require different versions of the same package, you don't need to worry about messing up old projects. Also, it's easy to just delete the folder and start over if anything goes wrong.\n",
    "\n",
    "Virtual environments are typically created, activated, managed and updated using terminal commands, but for now we recommend that you let for example VS Code (a popular cross-paltform package) handle it for you to make the coding experience much easier. If you are familiar with another approach for virtual environments that works for you, feel free to keep doing it that way.\n"
   ]
  },
  {
   "cell_type": "markdown",
   "id": "0f6de364",
   "metadata": {},
   "source": [
    "**a)** Open this notebook in VS Code (https://code.visualstudio.com/Download). Download the Python and Jupyter extensions.\n",
    "\n",
    "**b)** Press ´Cmd + Shift + P´, then search and run ´Python: Create Environment...´\n",
    "\n",
    "**c)** Select ´Venv´\n",
    "\n",
    "**d)** Choose the most up-to-date version of Python your have installed.\n",
    "\n",
    "**e)** Press ´Cmd + Shift + P´, then search and run ´Python: Select Interpreter´\n",
    "\n",
    "**f)** Selevet the (.venv) option you just created.\n",
    "\n",
    "**g)** Open a terminal in VS Code, the venv name should be visible at the beginning of the line. Run `pip list` to see that there are no packages install in the environment.\n",
    "\n",
    "**h)** In this terminal, run `pip install matplotlib numpy scikit-learn`. This will install the listed packages.\n",
    "\n",
    "**i)** To make these installations reproducible, which is important for reproducing results and sharing your code, run ´pip freeze > requirements.txt´ to create the file requirements.txt with all your dependencies.\n",
    "\n",
    "Now, anyone who wants to recreate your package setup can download your requirements.txt file and run ´pip install -r requirements.txt´ to install the correct packages and versions. To keep the requirements.txt file up to date with your environment, you will need to re-run the freeze command whenever you install a new package.\n",
    "\n",
    "**j)** Create a .gitignore file at the root of your project folder, and add the line ´.venv´ to it. This way, you won't try to upload a copy of all your python packages when you regularly push your changes to Github. Ignored files should not show up when you run ´git status´, and are not staged when running ´git add .´, try it!"
   ]
  },
  {
   "cell_type": "markdown",
   "id": "5d184ab1",
   "metadata": {},
   "source": [
    "## Exercise 3 - Fitting an OLS model to data\n"
   ]
  },
  {
   "cell_type": "markdown",
   "id": "d19ebd67",
   "metadata": {},
   "source": [
    "Great job on getting through all of that! Now it is time to do some actual machine learning!\n",
    "\n",
    "**a)** Complete the code below so that you fit a second order polynomial to the data. You will need to look up some scikit-learn documentation online (look at the imported functions for hints).\n",
    "\n",
    "**b)** Compute the mean square error for the line model and for the second degree polynomial model."
   ]
  },
  {
   "cell_type": "code",
   "execution_count": 1,
   "id": "b58fb9bf",
   "metadata": {},
   "outputs": [],
   "source": [
    "import numpy as np\n",
    "import matplotlib.pyplot as plt\n",
    "from sklearn.preprocessing import PolynomialFeatures # use the fit_transform method of the created object!\n",
    "from sklearn.linear_model import LinearRegression\n",
    "from sklearn.metrics import mean_squared_error"
   ]
  },
  {
   "cell_type": "code",
   "execution_count": null,
   "id": "0208e9ca",
   "metadata": {},
   "outputs": [
    {
     "name": "stdout",
     "output_type": "stream",
     "text": [
      "MSE linear: 0.13393671425273423\n",
      "[[0.79023096]\n",
      " [0.11954562]\n",
      " [0.47603712]\n",
      " [0.51576629]\n",
      " [0.87862567]\n",
      " [0.54599968]\n",
      " [0.43217404]\n",
      " [0.61015159]\n",
      " [0.39873977]\n",
      " [0.80356846]\n",
      " [0.9255175 ]\n",
      " [0.36775987]\n",
      " [0.2646317 ]\n",
      " [0.18467073]\n",
      " [0.15318064]\n",
      " [0.30085467]\n",
      " [0.31228007]\n",
      " [0.79779824]\n",
      " [0.19182107]\n",
      " [0.33338083]\n",
      " [0.85396008]\n",
      " [0.35016234]\n",
      " [0.4370049 ]\n",
      " [0.82914987]\n",
      " [0.18450781]\n",
      " [0.3390822 ]\n",
      " [0.45735255]\n",
      " [0.16995324]\n",
      " [0.11259377]\n",
      " [0.6804554 ]\n",
      " [0.71879244]\n",
      " [0.73818149]\n",
      " [0.38289613]\n",
      " [0.01334806]\n",
      " [0.40882305]\n",
      " [0.645557  ]\n",
      " [0.0333853 ]\n",
      " [0.45968655]\n",
      " [0.45390374]\n",
      " [0.86709483]\n",
      " [0.95273669]\n",
      " [0.1424384 ]\n",
      " [0.49135573]\n",
      " [0.76915753]\n",
      " [0.75920959]\n",
      " [0.78423413]\n",
      " [0.3419748 ]\n",
      " [0.62764182]\n",
      " [0.95546972]\n",
      " [0.9804184 ]\n",
      " [0.51517241]\n",
      " [0.33955803]\n",
      " [0.89204941]\n",
      " [0.04232407]\n",
      " [0.63789332]\n",
      " [0.19006958]\n",
      " [0.46862972]\n",
      " [0.31948794]\n",
      " [0.51427649]\n",
      " [0.74024823]\n",
      " [0.85767518]\n",
      " [0.9849433 ]\n",
      " [0.63271945]\n",
      " [0.08174437]\n",
      " [0.21108949]\n",
      " [0.74030457]\n",
      " [0.64544162]\n",
      " [0.09179523]\n",
      " [0.7321458 ]\n",
      " [0.12101593]\n",
      " [0.40934037]\n",
      " [0.11593325]\n",
      " [0.26249168]\n",
      " [0.71298372]\n",
      " [0.22127764]\n",
      " [0.36126934]\n",
      " [0.9408931 ]\n",
      " [0.10233884]\n",
      " [0.54022849]\n",
      " [0.01794188]\n",
      " [0.15081432]\n",
      " [0.61570181]\n",
      " [0.17450817]\n",
      " [0.84986087]\n",
      " [0.2598406 ]\n",
      " [0.97980838]\n",
      " [0.56564524]\n",
      " [0.17240823]\n",
      " [0.46005021]\n",
      " [0.39746099]\n",
      " [0.74626698]\n",
      " [0.02269945]\n",
      " [0.9901501 ]\n",
      " [0.79605568]\n",
      " [0.30036698]\n",
      " [0.72361592]\n",
      " [0.1308432 ]\n",
      " [0.87443799]\n",
      " [0.18684253]\n",
      " [0.63581533]]\n",
      "----\n",
      "[[0.79023096]\n",
      " [0.11954562]\n",
      " [0.47603712]\n",
      " [0.51576629]\n",
      " [0.87862567]\n",
      " [0.54599968]\n",
      " [0.43217404]\n",
      " [0.61015159]\n",
      " [0.39873977]\n",
      " [0.80356846]\n",
      " [0.9255175 ]\n",
      " [0.36775987]\n",
      " [0.2646317 ]\n",
      " [0.18467073]\n",
      " [0.15318064]\n",
      " [0.30085467]\n",
      " [0.31228007]\n",
      " [0.79779824]\n",
      " [0.19182107]\n",
      " [0.33338083]\n",
      " [0.85396008]\n",
      " [0.35016234]\n",
      " [0.4370049 ]\n",
      " [0.82914987]\n",
      " [0.18450781]\n",
      " [0.3390822 ]\n",
      " [0.45735255]\n",
      " [0.16995324]\n",
      " [0.11259377]\n",
      " [0.6804554 ]\n",
      " [0.71879244]\n",
      " [0.73818149]\n",
      " [0.38289613]\n",
      " [0.01334806]\n",
      " [0.40882305]\n",
      " [0.645557  ]\n",
      " [0.0333853 ]\n",
      " [0.45968655]\n",
      " [0.45390374]\n",
      " [0.86709483]\n",
      " [0.95273669]\n",
      " [0.1424384 ]\n",
      " [0.49135573]\n",
      " [0.76915753]\n",
      " [0.75920959]\n",
      " [0.78423413]\n",
      " [0.3419748 ]\n",
      " [0.62764182]\n",
      " [0.95546972]\n",
      " [0.9804184 ]\n",
      " [0.51517241]\n",
      " [0.33955803]\n",
      " [0.89204941]\n",
      " [0.04232407]\n",
      " [0.63789332]\n",
      " [0.19006958]\n",
      " [0.46862972]\n",
      " [0.31948794]\n",
      " [0.51427649]\n",
      " [0.74024823]\n",
      " [0.85767518]\n",
      " [0.9849433 ]\n",
      " [0.63271945]\n",
      " [0.08174437]\n",
      " [0.21108949]\n",
      " [0.74030457]\n",
      " [0.64544162]\n",
      " [0.09179523]\n",
      " [0.7321458 ]\n",
      " [0.12101593]\n",
      " [0.40934037]\n",
      " [0.11593325]\n",
      " [0.26249168]\n",
      " [0.71298372]\n",
      " [0.22127764]\n",
      " [0.36126934]\n",
      " [0.9408931 ]\n",
      " [0.10233884]\n",
      " [0.54022849]\n",
      " [0.01794188]\n",
      " [0.15081432]\n",
      " [0.61570181]\n",
      " [0.17450817]\n",
      " [0.84986087]\n",
      " [0.2598406 ]\n",
      " [0.97980838]\n",
      " [0.56564524]\n",
      " [0.17240823]\n",
      " [0.46005021]\n",
      " [0.39746099]\n",
      " [0.74626698]\n",
      " [0.02269945]\n",
      " [0.9901501 ]\n",
      " [0.79605568]\n",
      " [0.30036698]\n",
      " [0.72361592]\n",
      " [0.1308432 ]\n",
      " [0.87443799]\n",
      " [0.18684253]\n",
      " [0.63581533]]\n",
      "MSE polynomial:  0.010900838973359613\n"
     ]
    },
    {
     "data": {
      "image/png": "[encoded data removed]",
      "text/plain": [
       "<Figure size 640x480 with 1 Axes>"
      ]
     },
     "metadata": {},
     "output_type": "display_data"
    }
   ],
   "source": [
    "n = 100\n",
    "x = np.random.rand(n, 1)\n",
    "y = 2.0 + 5 * x**2 + 0.1 * np.random.randn(n, 1)\n",
    "\n",
    "\n",
    "line_model = LinearRegression().fit(x, y)\n",
    "line_predict = line_model.predict(x)\n",
    "mseL = mean_squared_error(y, line_predict)\n",
    "print(\"MSE linear:\", mseL)\n",
    "\n",
    "poly_features = PolynomialFeatures(degree=2, include_bias=False)\n",
    "poly_model = PolynomialFeatures().fit_transform(x.reshape(-1, 1))\n",
    "predicted_line = LinearRegression().fit(poly_model, y).predict(poly_model)\n",
    "mseP = mean_squared_error(y, predicted_line)\n",
    "print(\"MSE polynomial: \", mseP)\n",
    "\n",
    "plt.scatter(x, y, label = \"Data\")\n",
    "plt.scatter(x, line_predict, label = \"Line model\")\n",
    "plt.scatter(x, predicted_line, label = \"Poly model\")\n",
    "plt.legend()\n",
    "plt.show()"
   ]
  },
  {
   "cell_type": "markdown",
   "id": "248d8931",
   "metadata": {},
   "source": [
    "## Exercise 4 - The train-test split\n"
   ]
  },
  {
   "cell_type": "markdown",
   "id": "1efd3376",
   "metadata": {},
   "source": [
    "Hopefully your model fit the data quite well, but to know how well the model actually generalizes to unseen data, which is most often what we care about, we need to split our data into training and testing data. "
   ]
  },
  {
   "cell_type": "code",
   "execution_count": 24,
   "id": "0f8d75fb",
   "metadata": {},
   "outputs": [],
   "source": [
    "from sklearn.model_selection import train_test_split"
   ]
  },
  {
   "cell_type": "markdown",
   "id": "edb213fc",
   "metadata": {},
   "source": [
    "**a)** Complete the code below so that the polynomial features and the targets y get split into training and test data.\n",
    "\n",
    "**b)** What is the shape of X_test?\n",
    "\n",
    "**c)** Fit your model to X_train\n",
    "\n",
    "**d)** Compute the MSE when your model predicts on the training data and on the testing data, using y_train and y_test as targets for the two cases.\n",
    "\n",
    "**e)** Why do we not fit the model to X_test?"
   ]
  },
  {
   "cell_type": "code",
   "execution_count": 39,
   "id": "a03e0388",
   "metadata": {},
   "outputs": [
    {
     "name": "stdout",
     "output_type": "stream",
     "text": [
      "0.014243225301318937\n",
      "[1.         0.19142038 0.03664176]\n",
      "[0.94996825]\n"
     ]
    },
    {
     "data": {
      "image/png": "[encoded data removed]",
      "text/plain": [
       "<Figure size 640x480 with 1 Axes>"
      ]
     },
     "metadata": {},
     "output_type": "display_data"
    }
   ],
   "source": [
    "polynomial_features = PolynomialFeatures().fit_transform(x.reshape(-1, 1))\n",
    "\n",
    "X_train, X_test, y_train, y_test = train_test_split(polynomial_features, y, test_size=0.2)\n",
    "model = LinearRegression().fit(X_train, y_train)\n",
    "prediction = model.predict(X_test)\n",
    "print(mean_squared_error(y_test, prediction))\n",
    "print(X_train[0])\n",
    "print(x[0])\n",
    "plt.scatter(X_test.T[1], y_test, label = \"Data\")\n",
    "plt.scatter(X_test.T[1], prediction, label = \"Model\")\n",
    "plt.legend()\n",
    "plt.show()\n"
   ]
  },
  {
   "cell_type": "markdown",
   "id": "22e7536e",
   "metadata": {},
   "source": []
  }
 ],
 "metadata": {
  "kernelspec": {
   "display_name": ".venv",
   "language": "python",
   "name": "python3"
  },
  "language_info": {
   "codemirror_mode": {
    "name": "ipython",
    "version": 3
   },
   "file_extension": ".py",
   "mimetype": "text/x-python",
   "name": "python",
   "nbconvert_exporter": "python",
   "pygments_lexer": "ipython3",
   "version": "3.12.5"
  }
 },
 "nbformat": 4,
 "nbformat_minor": 5
}
