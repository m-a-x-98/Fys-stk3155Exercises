{
 "cells": [
  {
   "cell_type": "markdown",
   "id": "9dd8f8d0",
   "metadata": {},
   "source": [
    "# Exercises week 36\n",
    "\n",
    "## Deriving and Implementing Ridge Regression"
   ]
  },
  {
   "cell_type": "markdown",
   "id": "e5cc5739",
   "metadata": {},
   "source": [
    "## Learning goals\n",
    "\n",
    "After completing these exercises, you will know how to\n",
    "- Take more derivatives of simple products between vectors and matrices\n",
    "- Implement Ridge regression using the analytical expressions\n",
    "- Scale data appropriately for linear regression\n",
    "- Evaluate a model across two different hyperparameters"
   ]
  },
  {
   "cell_type": "markdown",
   "id": "427d9b9d",
   "metadata": {},
   "source": [
    "## Exercise 1 - Choice of model and degrees of freedom"
   ]
  },
  {
   "cell_type": "markdown",
   "id": "ff6ebdb5",
   "metadata": {},
   "source": [
    "**a)** How many degrees of freedom does an OLS model fit to the features $x, x^2, x^3$ and the intercept have?\n",
    "\n",
    "**b)** Why is it bad for a model to have too many degrees of freedom?\n",
    "\n",
    "**c)** Why is it bad for a model to have too few degrees of freedom?\n",
    "\n",
    "**d)** Read [chapter 3.4.1 of Hastie et al.'s book](https://link.springer.com/book/10.1007/978-0-387-84858-7). What is the expression for the effective degrees of freedom of the ridge regression fit?\n",
    "\n",
    "**e)** Why might we want to use Ridge regression instead of OLS?\n",
    "\n",
    "**f)** Why migth we want to use OLS instead of Ridge regression?"
   ]
  },
  {
   "cell_type": "markdown",
   "id": "4dfad9e8",
   "metadata": {},
   "source": [
    "**Answer:**$\\\\$\n",
    "a) The model has 4 degrees of freedom.$\\\\$\n",
    "b) If the model has too many degrees of freedom it will be prone to overfitting since the model can store more information than are in the data. $\\\\$\n",
    "c) If the model has too few degrees of freedom it will probably underfit. The model can't store all the information in the data and hence wont be able to fully learn all the features. $\\\\$\n",
    "d) The degrees of freedom are given by \n",
    "$$\n",
    "\\text{df}(\\lambda) \n",
    "= \\operatorname{tr}\\!\\left[ X (X^{T}X + \\lambda I)^{-1} X^{T} \\right], \n",
    "= \\operatorname{tr}(H_\\lambda), \n",
    "= \\sum_{j=1}^{p} \\frac{d_j^{2}}{d_j^{2} + \\lambda}.\n",
    "$$\n",
    "e) Ridge regression shrinks the parameteres of the model and hence reduces overfitting. $\\\\$\n",
    "f) Ridge regression is a little more complicated and has a small bias. If the parameters of OLS doesn't blow up, it will be a bit better than ridge regression. \n"
   ]
  },
  {
   "cell_type": "markdown",
   "id": "a78b2ce2",
   "metadata": {},
   "source": [
    "## Exercise 2 - Deriving the expression for Ridge Regression\n",
    "\n",
    "The aim here is to derive the expression for the optimal parameters using Ridge regression.\n",
    "\n",
    "The expression for the standard Mean Squared Error (MSE) which we used to define our cost function and the equations for the ordinary least squares (OLS) method, was given by the optimization problem"
   ]
  },
  {
   "cell_type": "markdown",
   "id": "93a7ad16",
   "metadata": {},
   "source": [
    "$$\n",
    "{\\displaystyle \\min_{\\boldsymbol{\\beta}\\in {\\mathbb{R}}^{p}}}\\frac{1}{n}\\left\\{\\left(\\boldsymbol{y}-\\boldsymbol{X}\\boldsymbol{\\beta}\\right)^T\\left(\\boldsymbol{y}-\\boldsymbol{X}\\boldsymbol{\\beta}\\right)\\right\\}.\n",
    "$$"
   ]
  },
  {
   "cell_type": "markdown",
   "id": "6b182c01",
   "metadata": {},
   "source": [
    "By minimizing the above equation with respect to the parameters $\\boldsymbol{\\beta}$ we could then obtain an analytical expression for the parameters $\\boldsymbol{\\hat\\beta_{OLS}}$.\n",
    "\n",
    "We can add a regularization parameter $\\lambda$ by\n",
    "defining a new cost function to be optimized, that is"
   ]
  },
  {
   "cell_type": "markdown",
   "id": "fb065daf",
   "metadata": {},
   "source": [
    "$$\n",
    "{\\displaystyle \\min_{\\boldsymbol{\\beta}\\in\n",
    "{\\mathbb{R}}^{p}}}\\frac{1}{n}\\vert\\vert \\boldsymbol{y}-\\boldsymbol{X}\\boldsymbol{\\beta}\\vert\\vert_2^2+\\lambda\\vert\\vert \\boldsymbol{\\beta}\\vert\\vert_2^2\n",
    "$$"
   ]
  },
  {
   "cell_type": "markdown",
   "id": "89ae11e8",
   "metadata": {},
   "source": [
    "which leads to the Ridge regression minimization problem. (One can require as part of the optimization problem that $\\vert\\vert \\boldsymbol{\\beta}\\vert\\vert_2^2\\le t$, where $t$ is a finite number larger than zero. We will not implement that in this course.)"
   ]
  },
  {
   "cell_type": "markdown",
   "id": "456d58d4",
   "metadata": {},
   "source": [
    "### a) Expression for Ridge regression\n",
    "\n",
    "Show that the optimal parameters"
   ]
  },
  {
   "cell_type": "markdown",
   "id": "a5677efd",
   "metadata": {},
   "source": [
    "$$\n",
    "\\hat{\\boldsymbol{\\beta}}_{\\mathrm{Ridge}} = \\left(\\boldsymbol{X}^T\\boldsymbol{X}+\\lambda\\boldsymbol{I}\\right)^{-1}\\boldsymbol{X}^T\\boldsymbol{y},\n",
    "$$"
   ]
  },
  {
   "cell_type": "markdown",
   "id": "e7b08048",
   "metadata": {},
   "source": [
    "with $\\boldsymbol{I}$ being a $p\\times p$ identity matrix.\n",
    "\n",
    "The ordinary least squares result is"
   ]
  },
  {
   "cell_type": "markdown",
   "id": "8bb0e6af",
   "metadata": {},
   "source": [
    "$$\n",
    "\\hat{\\boldsymbol{\\beta}}_{\\mathrm{OLS}} = \\left(\\boldsymbol{X}^T\\boldsymbol{X}\\right)^{-1}\\boldsymbol{X}^T\\boldsymbol{y},\n",
    "$$"
   ]
  },
  {
   "cell_type": "markdown",
   "id": "50135be4",
   "metadata": {},
   "source": [
    "We want to find the optimal parameter of $\\beta$. We want to optimize \n",
    "$${\\displaystyle \\min_{\\boldsymbol{\\beta}\\in\n",
    "{\\mathbb{R}}^{p}}}\\frac{1}{n}\\vert\\vert \\boldsymbol{y}-\\boldsymbol{X}\\boldsymbol{\\beta}\\vert\\vert_2^2+\\lambda\\vert\\vert \\boldsymbol{\\beta}\\vert\\vert_2^2$$\n",
    "Meaning, we want to find $\\beta$ so that the derivative of what we take the minimum of is $0$. $\\\\$\n",
    "We will just assume that when we write $\\lambda$ we acctaully mean $\\frac{\\lambda'}{n}$ for some $\\lambda'$.$\\\\$\n",
    "We have that \n",
    "$$\n",
    "\\frac{\\partial{||y-X\\beta ||_2^2+\\lambda ||\\beta ||_2^2}}{\\partial{\\beta}}=\n",
    "\\frac{\\partial{||y-X\\beta ||_2^2}}{\\partial{\\beta}}+\\frac{\\partial{\\lambda \\beta^TI_p\\beta}}{\\partial{\\beta}}\n",
    "$$\n",
    "we computed both these derivatives last week, so we get \n",
    "$$\n",
    "=-2(y-X\\beta)^TX+\\beta^T\\lambda(I_p+I_p^T)\n",
    "$$\n",
    "\n",
    "$$\n",
    "=-2y^TX+2\\beta^TX^TX+\\beta^T\\lambda(2I_p)\n",
    "$$\n",
    "Setting this equal to $0$ we get \n",
    "$$\n",
    "y^TX=\\beta^T\\lambda I_p+\\beta^TX^TX\n",
    "$$\n",
    "$$\n",
    "y^TX=\\beta^T(\\lambda I_p + X^TX)\n",
    "$$\n",
    "$$\n",
    "X^Ty=(\\lambda I_p+X^TX)\\beta\n",
    "$$\n",
    "So the optimal parametere is \n",
    "$$\n",
    "\\beta_\\text{ridge} = (\\lambda I_p+X^TX)^{-1}X^Ty\n",
    "$$\n"
   ]
  },
  {
   "cell_type": "markdown",
   "id": "2faaae78",
   "metadata": {},
   "source": [
    "## Exercise 3 - Scaling data"
   ]
  },
  {
   "cell_type": "code",
   "execution_count": 208,
   "id": "8ed79466",
   "metadata": {},
   "outputs": [],
   "source": [
    "import numpy as np\n",
    "import matplotlib.pyplot as plt\n",
    "from sklearn.model_selection import train_test_split\n",
    "from sklearn.preprocessing import StandardScaler"
   ]
  },
  {
   "cell_type": "code",
   "execution_count": 209,
   "id": "59d6f347",
   "metadata": {},
   "outputs": [],
   "source": [
    "n = 1000\n",
    "x = np.linspace(-3, 3, n)\n",
    "y = np.exp(-x**2) + 1.5 * np.exp(-(x-2)**2) + np.random.normal(0, 0.1)"
   ]
  },
  {
   "cell_type": "markdown",
   "id": "c9fc9fe0",
   "metadata": {},
   "source": [
    "**a)** Adapt your function from last week to only include the intercept column if the boolean argument `intercept` is set to true."
   ]
  },
  {
   "cell_type": "code",
   "execution_count": 210,
   "id": "5aa9c86d",
   "metadata": {},
   "outputs": [],
   "source": [
    "def polynomial_features(x : np.array, p : int, intercept : bool = True) -> np.array:\n",
    "    return x[:, None] ** np.arange(int(intercept), p+1)"
   ]
  },
  {
   "cell_type": "markdown",
   "id": "c5924634",
   "metadata": {},
   "source": [
    "**b)** Split your data into training and test data(80/20 split)"
   ]
  },
  {
   "cell_type": "code",
   "execution_count": 211,
   "id": "676541e7",
   "metadata": {},
   "outputs": [],
   "source": [
    "X = polynomial_features(x, 3)\n",
    "\n",
    "X_train, X_test, Y_train, Y_test = train_test_split(X, y, test_size=0.2)"
   ]
  },
  {
   "cell_type": "markdown",
   "id": "a58f05ad",
   "metadata": {},
   "source": [
    "**c)** Scale your design matrix with the sklearn standard scaler, though based on the mean and standard deviation of the training data only."
   ]
  },
  {
   "cell_type": "code",
   "execution_count": 212,
   "id": "0c07995a",
   "metadata": {},
   "outputs": [],
   "source": [
    "def scale(xtrain, xtest, ytrian):\n",
    "    scaler = StandardScaler()\n",
    "    scaler.fit(xtrain)\n",
    "\n",
    "    x_scaled_train = scaler.transform(xtrain)\n",
    "    x_scaled_test = scaler.transform(xtest)\n",
    "    y_offset = np.mean(ytrian)\n",
    "    return x_scaled_train, x_scaled_test, y_offset"
   ]
  },
  {
   "cell_type": "markdown",
   "id": "63b86003",
   "metadata": {},
   "source": [
    "## Exercise 4 - Implementing Ridge Regression"
   ]
  },
  {
   "cell_type": "markdown",
   "id": "a2f52ef2",
   "metadata": {},
   "source": [
    "**a)** Implement a function for computing the optimal Ridge parameters using the expression from **2a)**."
   ]
  },
  {
   "cell_type": "code",
   "execution_count": 213,
   "id": "59c7c386",
   "metadata": {},
   "outputs": [],
   "source": [
    "def getRidgeParam(x : np.array, y : np.array, l : int) -> np.array:\n",
    "    return np.linalg.inv(l*np.identity(x.shape[1]) + x.T @ x) @ x.T @ y"
   ]
  },
  {
   "cell_type": "markdown",
   "id": "626c81ba",
   "metadata": {},
   "source": [
    "**b)** Fit a model to the data, and plot the prediction using both the training and test x-values extracted before scaling, and the y_offset."
   ]
  },
  {
   "cell_type": "code",
   "execution_count": 214,
   "id": "f1be5a29",
   "metadata": {},
   "outputs": [
    {
     "data": {
      "image/png": "[encoded data removed]",
      "text/plain": [
       "<Figure size 640x480 with 1 Axes>"
      ]
     },
     "metadata": {},
     "output_type": "display_data"
    }
   ],
   "source": [
    "x_scaled_train, x_scaled_test, y_offset = scale(X_train, X_test, Y_train)\n",
    "\n",
    "l = 0.1\n",
    "beta = getRidgeParam(x_scaled_train, Y_train, l)\n",
    "\n",
    "pred = x_scaled_test @ beta + y_offset\n",
    "plt.scatter(X_test.T[0], pred)\n",
    "plt.plot(x, y)\n",
    "plt.show()"
   ]
  },
  {
   "cell_type": "markdown",
   "id": "2993cfae",
   "metadata": {},
   "source": [
    "## Exercise 4 - Testing multiple hyperparameters"
   ]
  },
  {
   "cell_type": "markdown",
   "id": "e6cdc89a",
   "metadata": {},
   "source": [
    "**a)** Compute the MSE of your ridge model for polynomials of degrees 1 to 5 with lambda set to 0.01. Plot the MSE as a function of polynomial degree.\n",
    "\n",
    "**b)** Compute the MSE of your ridge model for a polynomial with degree 3, and with lambdas from $10^{-1}$ to $10^{-5}$ on a logarithmic scale. Plot the MSE as a function of lambda.\n",
    "\n",
    "**c)** Compute the MSE of your ridge model for polynomials of degrees 1 to 5, and with lambdas from $10^{-1}$ to $10^{-5}$ on a logarithmic scale. Plot the MSE as a function of polynomial degree and lambda using a [heatmap](https://matplotlib.org/stable/gallery/images_contours_and_fields/image_annotated_heatmap.html)."
   ]
  },
  {
   "cell_type": "code",
   "execution_count": 215,
   "id": "21fa5710",
   "metadata": {},
   "outputs": [],
   "source": [
    "def MSE(x, y):\n",
    "    return np.sum((x - y)**2) / x.shape[0]"
   ]
  },
  {
   "cell_type": "code",
   "execution_count": 216,
   "id": "f2b534a2",
   "metadata": {},
   "outputs": [
    {
     "data": {
      "image/png": "[encoded data removed]",
      "text/plain": [
       "<Figure size 640x480 with 1 Axes>"
      ]
     },
     "metadata": {},
     "output_type": "display_data"
    }
   ],
   "source": [
    "mse = []\n",
    "x_train, x_test, y_train, y_test = train_test_split(x, y, test_size=0.2)\n",
    "\n",
    "l = 0.001\n",
    "xVals = np.arange(1, 15)\n",
    "for i in xVals:\n",
    "    featMat = polynomial_features(x_train, i)\n",
    "    featMatTest = polynomial_features(x_test, i)\n",
    "\n",
    "    featMatScaled, featMatTestScaled, y_offset = scale(featMat, featMatTest, y_train)\n",
    "    \n",
    "    beta = getRidgeParam(featMatScaled, y_train, l)\n",
    "    \n",
    "    mse.append(MSE(featMatTestScaled@beta + y_offset, y_test))\n",
    "\n",
    "plt.plot(xVals, mse)\n",
    "plt.show()\n",
    "    "
   ]
  },
  {
   "cell_type": "code",
   "execution_count": 217,
   "id": "25bd46c5",
   "metadata": {},
   "outputs": [
    {
     "data": {
      "image/png": "[encoded data removed]",
      "text/plain": [
       "<Figure size 640x480 with 1 Axes>"
      ]
     },
     "metadata": {},
     "output_type": "display_data"
    }
   ],
   "source": [
    "mse = []\n",
    "x_train, x_test, y_train, y_test = train_test_split(x, y, test_size=0.2)\n",
    "featMat = polynomial_features(x_train, 3)\n",
    "featMatTest = polynomial_features(x_test, 3)\n",
    "featMatScaled, featMatTestScaled, y_offset = scale(featMat, featMatTest, y_train)\n",
    "\n",
    "lambdaVals = np.logspace(1, 5, 100, base=10)\n",
    "for l in lambdaVals:\n",
    "    \n",
    "    beta = getRidgeParam(featMatScaled, y_train, l)\n",
    "    \n",
    "    mse.append(MSE(featMatTestScaled@beta + y_offset, y_test))\n",
    "\n",
    "plt.plot(lambdaVals, mse)\n",
    "plt.xscale(\"log\")\n",
    "plt.show()"
   ]
  },
  {
   "cell_type": "code",
   "execution_count": 218,
   "id": "1a6677a7",
   "metadata": {},
   "outputs": [
    {
     "data": {
      "image/png": "[encoded data removed]",
      "text/plain": [
       "<Figure size 640x480 with 1 Axes>"
      ]
     },
     "metadata": {},
     "output_type": "display_data"
    }
   ],
   "source": [
    "mse = []\n",
    "x_train, x_test, y_train, y_test = train_test_split(x, y, test_size=0.2)\n",
    "\n",
    "xVals = range(1, 14)\n",
    "lambdaVals = np.logspace(1, 5, 14, base=10)\n",
    "\n",
    "for i in xVals:\n",
    "    featMat = polynomial_features(x_train, i)\n",
    "    featMatTest = polynomial_features(x_test, i)\n",
    "    featMatScaled, featMatTestScaled, y_offset = scale(featMat, featMatTest, y_train)\n",
    "\n",
    "    mseTemp = []\n",
    "    for l in lambdaVals:\n",
    "        beta = getRidgeParam(featMatScaled, y_train, l)\n",
    "        mseTemp.append(MSE(featMatTestScaled@beta + y_offset, y_test))\n",
    "    mse.append(mseTemp)\n",
    "\n",
    "\n",
    "mse = np.array(mse)\n",
    "plt.imshow(np.array(mse))\n",
    "plt.xlabel(\"Lambda\")\n",
    "plt.ylabel(\"Power\")\n",
    "plt.show()\n",
    "    "
   ]
  }
 ],
 "metadata": {
  "kernelspec": {
   "display_name": ".venv",
   "language": "python",
   "name": "python3"
  },
  "language_info": {
   "codemirror_mode": {
    "name": "ipython",
    "version": 3
   },
   "file_extension": ".py",
   "mimetype": "text/x-python",
   "name": "python",
   "nbconvert_exporter": "python",
   "pygments_lexer": "ipython3",
   "version": "3.12.5"
  }
 },
 "nbformat": 4,
 "nbformat_minor": 5
}
